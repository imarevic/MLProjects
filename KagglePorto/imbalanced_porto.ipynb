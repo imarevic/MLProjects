{
 "cells": [
  {
   "cell_type": "code",
   "execution_count": 1,
   "metadata": {
    "collapsed": true
   },
   "outputs": [],
   "source": [
    "import numpy as np\n",
    "import pandas as pd\n",
    "from IPython.display import display\n",
    "import matplotlib.pyplot as plt\n",
    "import seaborn as sns\n",
    "import missingno as msno\n",
    "%matplotlib inline"
   ]
  },
  {
   "cell_type": "code",
   "execution_count": 2,
   "metadata": {
    "collapsed": true
   },
   "outputs": [],
   "source": [
    "def get_data_porto(perc_keep):\n",
    "    # Import data and get rid of missings\n",
    "    df = pd.read_csv('datasets/train.csv', na_values=[-1, ])\n",
    "    # Get rid of columns with many missings > 10 %, ie mutiply N by 10/100\n",
    "    criterion = len(df.index) / perc_keep\n",
    "    mask = df.isnull().sum() < criterion\n",
    "    df_clean = df.loc[:, mask]\n",
    "    # Drop rows with missings (or use multiple imputation later)\n",
    "    df_clean = df_clean.dropna()\n",
    "    print('Final number of rows: {}'.format(len(df_clean.index)))\n",
    "    print('Final number of columns: {}'.format(len(df_clean.columns)))\n",
    "    return df_clean"
   ]
  },
  {
   "cell_type": "code",
   "execution_count": 3,
   "metadata": {},
   "outputs": [
    {
     "name": "stdout",
     "output_type": "stream",
     "text": [
      "Final number of rows: 541860\n",
      "Final number of columns: 56\n"
     ]
    }
   ],
   "source": [
    "df_clean = get_data_porto(10)"
   ]
  },
  {
   "cell_type": "code",
   "execution_count": 4,
   "metadata": {
    "collapsed": true
   },
   "outputs": [],
   "source": [
    "from sklearn.model_selection import train_test_split\n",
    "from sklearn.preprocessing import StandardScaler\n",
    "from sklearn.preprocessing import OneHotEncoder\n",
    "\n",
    "def prepare_data(df, split_ratio):\n",
    "    \"\"\"Encodes, scales and splits current data.\"\"\"\n",
    "    \n",
    "    # Extract data\n",
    "    X = df_clean.drop(df_clean[['id', 'target']], axis=1)\n",
    "    y = df_clean[['target']].values.ravel()\n",
    "    \n",
    "    # Split training/test set\n",
    "    X_train, X_test, y_train, y_test = train_test_split(X, y, stratify=y, test_size=split_ratio, random_state=42)\n",
    "    \n",
    "    # Get indices of particular columns\n",
    "    categorical_features = [idx for idx, f in enumerate(X.columns) if 'cat' in f]\n",
    "    binary_features = [idx for idx, f in enumerate(X.columns) if 'bin' in f]\n",
    "    numerical_features = [idx for idx, f in enumerate(X.columns) if 'cat' not in f and 'bin' not in f]\n",
    "    \n",
    "    # Scale numeric data of training and test set\n",
    "    sc = StandardScaler()\n",
    "    X_train.iloc[:, numerical_features] = sc.fit_transform(X_train.iloc[:, numerical_features].values)\n",
    "    X_test.iloc[:, numerical_features] = sc.transform(X_test.iloc[:, numerical_features].values)\n",
    "    \n",
    "    # One-hot encoding of categorical variables\n",
    "    X_train = OneHotEncoder(categorical_features=categorical_features, sparse=False).fit_transform(X_train.values)\n",
    "    X_test = OneHotEncoder(categorical_features=categorical_features, sparse=False).fit_transform(X_test.values)\n",
    "    \n",
    "    # Return in order of train_test_split\n",
    "    return X_train, X_test, y_train, y_test\n",
    "    \n",
    "    "
   ]
  },
  {
   "cell_type": "code",
   "execution_count": 5,
   "metadata": {},
   "outputs": [
    {
     "name": "stderr",
     "output_type": "stream",
     "text": [
      "C:\\Anaconda\\lib\\site-packages\\pandas\\core\\indexing.py:517: SettingWithCopyWarning: \n",
      "A value is trying to be set on a copy of a slice from a DataFrame.\n",
      "Try using .loc[row_indexer,col_indexer] = value instead\n",
      "\n",
      "See the caveats in the documentation: http://pandas.pydata.org/pandas-docs/stable/indexing.html#indexing-view-versus-copy\n",
      "  self.obj[item] = s\n"
     ]
    }
   ],
   "source": [
    "X_train, X_test, y_train, y_test = prepare_data(df_clean, 0.05)"
   ]
  },
  {
   "cell_type": "code",
   "execution_count": null,
   "metadata": {},
   "outputs": [],
   "source": [
    "# Try balance cascade\n",
    "from imblearn.ensemble import BalanceCascade\n",
    "bc = BalanceCascade(random_state=42)\n",
    "X_rs, y_rs = bc.fit_sample(X_train, y_train)"
   ]
  },
  {
   "cell_type": "code",
   "execution_count": 21,
   "metadata": {
    "collapsed": true
   },
   "outputs": [],
   "source": [
    "# Try informed undersampling\n",
    "# Fails, since not enough memory for the algorithm\n",
    "# from collections import Counter\n",
    "# from imblearn.under_sampling import NearMiss \n",
    "\n",
    "# # nm = NearMiss(random_state=42, version=2, n_neighbors=5)\n",
    "# # X_train_us, y_train_us = nm.fit_sample(X_train_s, y_train_s.toarray().ravel())\n",
    "\n",
    "# # print('Resampled dataset shape {}'.format(Counter(y_train_us)))"
   ]
  },
  {
   "cell_type": "code",
   "execution_count": 22,
   "metadata": {
    "collapsed": true
   },
   "outputs": [],
   "source": [
    "# Try balanced bagging classifier\n",
    "from imblearn.ensemble import BalancedBaggingClassifier "
   ]
  },
  {
   "cell_type": "code",
   "execution_count": 52,
   "metadata": {},
   "outputs": [
    {
     "name": "stderr",
     "output_type": "stream",
     "text": [
      "[Parallel(n_jobs=4)]: Done   2 out of   4 | elapsed:   24.3s remaining:   24.3s\n",
      "[Parallel(n_jobs=4)]: Done   4 out of   4 | elapsed:   27.0s finished\n"
     ]
    },
    {
     "name": "stdout",
     "output_type": "stream",
     "text": [
      "0.574422991373\n"
     ]
    },
    {
     "name": "stderr",
     "output_type": "stream",
     "text": [
      "[Parallel(n_jobs=4)]: Done   2 out of   4 | elapsed:   21.7s remaining:   21.7s\n",
      "[Parallel(n_jobs=4)]: Done   4 out of   4 | elapsed:   25.0s finished\n"
     ]
    },
    {
     "name": "stdout",
     "output_type": "stream",
     "text": [
      "0.573972302032\n"
     ]
    },
    {
     "name": "stderr",
     "output_type": "stream",
     "text": [
      "[Parallel(n_jobs=4)]: Done   2 out of   4 | elapsed:   20.5s remaining:   20.5s\n",
      "[Parallel(n_jobs=4)]: Done   4 out of   4 | elapsed:   23.2s finished\n"
     ]
    },
    {
     "name": "stdout",
     "output_type": "stream",
     "text": [
      "0.588180672032\n"
     ]
    },
    {
     "name": "stderr",
     "output_type": "stream",
     "text": [
      "[Parallel(n_jobs=4)]: Done   2 out of   4 | elapsed:   20.9s remaining:   20.9s\n",
      "[Parallel(n_jobs=4)]: Done   4 out of   4 | elapsed:   23.8s finished\n"
     ]
    },
    {
     "name": "stdout",
     "output_type": "stream",
     "text": [
      "0.577113529034\n"
     ]
    },
    {
     "name": "stderr",
     "output_type": "stream",
     "text": [
      "[Parallel(n_jobs=4)]: Done   2 out of   4 | elapsed:   20.6s remaining:   20.6s\n",
      "[Parallel(n_jobs=4)]: Done   4 out of   4 | elapsed:   23.3s finished\n"
     ]
    },
    {
     "name": "stdout",
     "output_type": "stream",
     "text": [
      "0.572198684065\n"
     ]
    },
    {
     "name": "stderr",
     "output_type": "stream",
     "text": [
      "[Parallel(n_jobs=4)]: Done   2 out of   4 | elapsed:   20.6s remaining:   20.6s\n",
      "[Parallel(n_jobs=4)]: Done   4 out of   4 | elapsed:   23.5s finished\n"
     ]
    },
    {
     "name": "stdout",
     "output_type": "stream",
     "text": [
      "0.575207812467\n"
     ]
    },
    {
     "name": "stderr",
     "output_type": "stream",
     "text": [
      "[Parallel(n_jobs=4)]: Done   2 out of   4 | elapsed:   20.6s remaining:   20.6s\n",
      "[Parallel(n_jobs=4)]: Done   4 out of   4 | elapsed:   23.3s finished\n"
     ]
    },
    {
     "name": "stdout",
     "output_type": "stream",
     "text": [
      "0.572082126477\n"
     ]
    },
    {
     "name": "stderr",
     "output_type": "stream",
     "text": [
      "[Parallel(n_jobs=4)]: Done   2 out of   4 | elapsed:   20.6s remaining:   20.6s\n",
      "[Parallel(n_jobs=4)]: Done   4 out of   4 | elapsed:   23.5s finished\n"
     ]
    },
    {
     "name": "stdout",
     "output_type": "stream",
     "text": [
      "0.587292891735\n"
     ]
    },
    {
     "name": "stderr",
     "output_type": "stream",
     "text": [
      "[Parallel(n_jobs=4)]: Done   2 out of   4 | elapsed:   20.1s remaining:   20.1s\n",
      "[Parallel(n_jobs=4)]: Done   4 out of   4 | elapsed:   23.1s finished\n"
     ]
    },
    {
     "name": "stdout",
     "output_type": "stream",
     "text": [
      "0.589429780852\n"
     ]
    },
    {
     "name": "stderr",
     "output_type": "stream",
     "text": [
      "[Parallel(n_jobs=4)]: Done   2 out of   4 | elapsed:   21.1s remaining:   21.1s\n",
      "[Parallel(n_jobs=4)]: Done   4 out of   4 | elapsed:   23.8s finished\n"
     ]
    },
    {
     "name": "stdout",
     "output_type": "stream",
     "text": [
      "0.576482175431\n"
     ]
    }
   ],
   "source": [
    "classifiers = []\n",
    "# Stack ten classifiers\n",
    "for i in range(10):\n",
    "    bbc = BalancedBaggingClassifier(verbose=True, n_jobs=-1, n_estimators=100, max_samples=0.5, max_features=int(np.sqrt(X_train.shape[1])), oob_score=True, bootstrap_features=True)\n",
    "    bbc.fit(X_train, y_train) \n",
    "    classifiers.append(bbc)\n",
    "    print(bbc.oob_score_)"
   ]
  },
  {
   "cell_type": "code",
   "execution_count": 53,
   "metadata": {},
   "outputs": [
    {
     "name": "stderr",
     "output_type": "stream",
     "text": [
      "[Parallel(n_jobs=4)]: Done   2 out of   4 | elapsed:    1.8s remaining:    1.8s\n",
      "[Parallel(n_jobs=4)]: Done   4 out of   4 | elapsed:    2.6s finished\n"
     ]
    },
    {
     "name": "stdout",
     "output_type": "stream",
     "text": [
      "Confusion matrix :\n",
      " [[15365 10771]\n",
      " [  429   528]]\n",
      "Precision  0.0467297990973\n",
      "Recall  0.551724137931\n"
     ]
    },
    {
     "name": "stderr",
     "output_type": "stream",
     "text": [
      "[Parallel(n_jobs=4)]: Done   2 out of   4 | elapsed:    1.9s remaining:    1.9s\n",
      "[Parallel(n_jobs=4)]: Done   4 out of   4 | elapsed:    2.7s finished\n"
     ]
    },
    {
     "name": "stdout",
     "output_type": "stream",
     "text": [
      "Confusion matrix :\n",
      " [[15205 10931]\n",
      " [  432   525]]\n",
      "Precision  0.0458275139665\n",
      "Recall  0.548589341693\n"
     ]
    },
    {
     "name": "stderr",
     "output_type": "stream",
     "text": [
      "[Parallel(n_jobs=4)]: Done   2 out of   4 | elapsed:    1.8s remaining:    1.8s\n",
      "[Parallel(n_jobs=4)]: Done   4 out of   4 | elapsed:    2.7s finished\n"
     ]
    },
    {
     "name": "stdout",
     "output_type": "stream",
     "text": [
      "Confusion matrix :\n",
      " [[15790 10346]\n",
      " [  426   531]]\n",
      "Precision  0.0488186080721\n",
      "Recall  0.554858934169\n"
     ]
    },
    {
     "name": "stderr",
     "output_type": "stream",
     "text": [
      "[Parallel(n_jobs=4)]: Done   2 out of   4 | elapsed:    1.9s remaining:    1.9s\n",
      "[Parallel(n_jobs=4)]: Done   4 out of   4 | elapsed:    2.8s finished\n"
     ]
    },
    {
     "name": "stdout",
     "output_type": "stream",
     "text": [
      "Confusion matrix :\n",
      " [[15253 10883]\n",
      " [  437   520]]\n",
      "Precision  0.0456020345523\n",
      "Recall  0.543364681296\n"
     ]
    },
    {
     "name": "stderr",
     "output_type": "stream",
     "text": [
      "[Parallel(n_jobs=4)]: Done   2 out of   4 | elapsed:    2.0s remaining:    2.0s\n",
      "[Parallel(n_jobs=4)]: Done   4 out of   4 | elapsed:    2.8s finished\n"
     ]
    },
    {
     "name": "stdout",
     "output_type": "stream",
     "text": [
      "Confusion matrix :\n",
      " [[15246 10890]\n",
      " [  423   534]]\n",
      "Precision  0.046743697479\n",
      "Recall  0.557993730408\n"
     ]
    },
    {
     "name": "stderr",
     "output_type": "stream",
     "text": [
      "[Parallel(n_jobs=4)]: Done   2 out of   4 | elapsed:    1.9s remaining:    1.9s\n",
      "[Parallel(n_jobs=4)]: Done   4 out of   4 | elapsed:    2.9s finished\n"
     ]
    },
    {
     "name": "stdout",
     "output_type": "stream",
     "text": [
      "Confusion matrix :\n",
      " [[15409 10727]\n",
      " [  443   514]]\n",
      "Precision  0.0457254692643\n",
      "Recall  0.537095088819\n"
     ]
    },
    {
     "name": "stderr",
     "output_type": "stream",
     "text": [
      "[Parallel(n_jobs=4)]: Done   2 out of   4 | elapsed:    2.0s remaining:    2.0s\n",
      "[Parallel(n_jobs=4)]: Done   4 out of   4 | elapsed:    2.9s finished\n"
     ]
    },
    {
     "name": "stdout",
     "output_type": "stream",
     "text": [
      "Confusion matrix :\n",
      " [[15171 10965]\n",
      " [  426   531]]\n",
      "Precision  0.0461899791232\n",
      "Recall  0.554858934169\n"
     ]
    },
    {
     "name": "stderr",
     "output_type": "stream",
     "text": [
      "[Parallel(n_jobs=4)]: Done   2 out of   4 | elapsed:    1.9s remaining:    1.9s\n",
      "[Parallel(n_jobs=4)]: Done   4 out of   4 | elapsed:    2.7s finished\n"
     ]
    },
    {
     "name": "stdout",
     "output_type": "stream",
     "text": [
      "Confusion matrix :\n",
      " [[15493 10643]\n",
      " [  433   524]]\n",
      "Precision  0.0469239724187\n",
      "Recall  0.547544409613\n"
     ]
    },
    {
     "name": "stderr",
     "output_type": "stream",
     "text": [
      "[Parallel(n_jobs=4)]: Done   2 out of   4 | elapsed:    1.8s remaining:    1.8s\n",
      "[Parallel(n_jobs=4)]: Done   4 out of   4 | elapsed:    2.7s finished\n"
     ]
    },
    {
     "name": "stdout",
     "output_type": "stream",
     "text": [
      "Confusion matrix :\n",
      " [[15700 10436]\n",
      " [  451   506]]\n",
      "Precision  0.0462438311095\n",
      "Recall  0.528735632184\n"
     ]
    },
    {
     "name": "stderr",
     "output_type": "stream",
     "text": [
      "[Parallel(n_jobs=4)]: Done   2 out of   4 | elapsed:    1.9s remaining:    1.9s\n"
     ]
    },
    {
     "name": "stdout",
     "output_type": "stream",
     "text": [
      "Confusion matrix :\n",
      " [[15316 10820]\n",
      " [  438   519]]\n",
      "Precision  0.045771232031\n",
      "Recall  0.542319749216\n"
     ]
    },
    {
     "name": "stderr",
     "output_type": "stream",
     "text": [
      "[Parallel(n_jobs=4)]: Done   4 out of   4 | elapsed:    2.7s finished\n"
     ]
    }
   ],
   "source": [
    "# get predictions\n",
    "for classifier in classifiers:\n",
    "    y_pred = classifier.predict(X_test)\n",
    "    print('Confusion matrix :\\n', confusion_matrix(y_test, y_pred))\n",
    "    print('Precision ', precision_score(y_test, y_pred))\n",
    "    print('Recall ', recall_score(y_test, y_pred))"
   ]
  },
  {
   "cell_type": "code",
   "execution_count": 47,
   "metadata": {},
   "outputs": [
    {
     "name": "stdout",
     "output_type": "stream",
     "text": [
      "Confusion matrix :\n",
      " [[15422 10714]\n",
      " [  421   536]]\n",
      "Precision  0.0476444444444\n",
      "Recall  0.560083594566\n"
     ]
    }
   ],
   "source": [
    "# test predictions\n",
    "from sklearn.metrics import confusion_matrix\n",
    "from sklearn.metrics import precision_score\n",
    "from sklearn.metrics import recall_score\n",
    "\n",
    "print('Confusion matrix :\\n', confusion_matrix(y_test, y_pred))\n",
    "print('Precision ', precision_score(y_test, y_pred))\n",
    "print('Recall ', recall_score(y_test, y_pred))"
   ]
  },
  {
   "cell_type": "code",
   "execution_count": 48,
   "metadata": {
    "collapsed": true
   },
   "outputs": [],
   "source": [
    "def gini(solution, submission):\n",
    "    df = zip(solution, submission, range(len(solution)))\n",
    "    df = sorted(df, key=lambda x: (x[1],-x[2]), reverse=True)\n",
    "    rand = [float(i+1)/float(len(df)) for i in range(len(df))]\n",
    "    totalPos = float(sum([x[0] for x in df]))\n",
    "    cumPosFound = [df[0][0]]\n",
    "    for i in range(1,len(df)):\n",
    "        cumPosFound.append(cumPosFound[len(cumPosFound)-1] + df[i][0])\n",
    "    Lorentz = [float(x)/totalPos for x in cumPosFound]\n",
    "    Gini = [Lorentz[i]-rand[i] for i in range(len(df))]\n",
    "    return sum(Gini)\n",
    "\n",
    "def normalized_gini(solution, submission):\n",
    "    normalized_gini = gini(solution, submission)/gini(solution, solution)\n",
    "    return normalized_gini"
   ]
  },
  {
   "cell_type": "code",
   "execution_count": 50,
   "metadata": {},
   "outputs": [
    {
     "name": "stderr",
     "output_type": "stream",
     "text": [
      "[Parallel(n_jobs=1)]: Done   1 out of   1 | elapsed:   24.4s finished\n"
     ]
    },
    {
     "data": {
      "text/plain": [
       "array([[304575, 191999],\n",
       "       [  1367,  16826]], dtype=int64)"
      ]
     },
     "execution_count": 50,
     "metadata": {},
     "output_type": "execute_result"
    }
   ],
   "source": []
  },
  {
   "cell_type": "code",
   "execution_count": null,
   "metadata": {
    "collapsed": true
   },
   "outputs": [],
   "source": []
  }
 ],
 "metadata": {
  "kernelspec": {
   "display_name": "Python 3",
   "language": "python",
   "name": "python3"
  },
  "language_info": {
   "codemirror_mode": {
    "name": "ipython",
    "version": 3
   },
   "file_extension": ".py",
   "mimetype": "text/x-python",
   "name": "python",
   "nbconvert_exporter": "python",
   "pygments_lexer": "ipython3",
   "version": "3.5.2"
  }
 },
 "nbformat": 4,
 "nbformat_minor": 2
}
