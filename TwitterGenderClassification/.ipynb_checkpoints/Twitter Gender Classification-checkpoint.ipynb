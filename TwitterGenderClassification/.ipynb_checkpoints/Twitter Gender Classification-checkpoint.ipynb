{
 "cells": [
  {
   "cell_type": "markdown",
   "metadata": {},
   "source": [
    "## Twitter Gender Classification\n"
   ]
  },
  {
   "cell_type": "code",
   "execution_count": 2,
   "metadata": {},
   "outputs": [],
   "source": [
    "import numpy as np\n",
    "import pandas as pd\n",
    "import sklearn"
   ]
  },
  {
   "cell_type": "markdown",
   "metadata": {},
   "source": [
    "First we read in the data and take a look at the first few rows of the data frame:"
   ]
  },
  {
   "cell_type": "code",
   "execution_count": 3,
   "metadata": {
    "scrolled": true
   },
   "outputs": [
    {
     "data": {
      "text/html": [
       "<div>\n",
       "<table border=\"1\" class=\"dataframe\">\n",
       "  <thead>\n",
       "    <tr style=\"text-align: right;\">\n",
       "      <th></th>\n",
       "      <th>_unit_id</th>\n",
       "      <th>_golden</th>\n",
       "      <th>_unit_state</th>\n",
       "      <th>_trusted_judgments</th>\n",
       "      <th>_last_judgment_at</th>\n",
       "      <th>gender</th>\n",
       "      <th>gender:confidence</th>\n",
       "      <th>profile_yn</th>\n",
       "      <th>profile_yn:confidence</th>\n",
       "      <th>created</th>\n",
       "      <th>description</th>\n",
       "      <th>fav_number</th>\n",
       "      <th>gender_gold</th>\n",
       "      <th>link_color</th>\n",
       "      <th>name</th>\n",
       "      <th>profile_yn_gold</th>\n",
       "      <th>profileimage</th>\n",
       "      <th>retweet_count</th>\n",
       "      <th>sidebar_color</th>\n",
       "      <th>text</th>\n",
       "      <th>tweet_coord</th>\n",
       "      <th>tweet_count</th>\n",
       "      <th>tweet_created</th>\n",
       "      <th>tweet_id</th>\n",
       "      <th>tweet_location</th>\n",
       "      <th>user_timezone</th>\n",
       "    </tr>\n",
       "  </thead>\n",
       "  <tbody>\n",
       "    <tr>\n",
       "      <th>0</th>\n",
       "      <td>815719226</td>\n",
       "      <td>False</td>\n",
       "      <td>finalized</td>\n",
       "      <td>3</td>\n",
       "      <td>10/26/15 23:24</td>\n",
       "      <td>male</td>\n",
       "      <td>1.0000</td>\n",
       "      <td>yes</td>\n",
       "      <td>1.0</td>\n",
       "      <td>12/5/13 1:48</td>\n",
       "      <td>i sing my own rhythm.</td>\n",
       "      <td>0</td>\n",
       "      <td>NaN</td>\n",
       "      <td>08C2C2</td>\n",
       "      <td>sheezy0</td>\n",
       "      <td>NaN</td>\n",
       "      <td>https://pbs.twimg.com/profile_images/414342229...</td>\n",
       "      <td>0</td>\n",
       "      <td>FFFFFF</td>\n",
       "      <td>Robbie E Responds To Critics After Win Against...</td>\n",
       "      <td>NaN</td>\n",
       "      <td>110964</td>\n",
       "      <td>10/26/15 12:40</td>\n",
       "      <td>6.587300e+17</td>\n",
       "      <td>main; @Kan1shk3</td>\n",
       "      <td>Chennai</td>\n",
       "    </tr>\n",
       "    <tr>\n",
       "      <th>1</th>\n",
       "      <td>815719227</td>\n",
       "      <td>False</td>\n",
       "      <td>finalized</td>\n",
       "      <td>3</td>\n",
       "      <td>10/26/15 23:30</td>\n",
       "      <td>male</td>\n",
       "      <td>1.0000</td>\n",
       "      <td>yes</td>\n",
       "      <td>1.0</td>\n",
       "      <td>10/1/12 13:51</td>\n",
       "      <td>I'm the author of novels filled with family dr...</td>\n",
       "      <td>68</td>\n",
       "      <td>NaN</td>\n",
       "      <td>0084B4</td>\n",
       "      <td>DavdBurnett</td>\n",
       "      <td>NaN</td>\n",
       "      <td>https://pbs.twimg.com/profile_images/539604221...</td>\n",
       "      <td>0</td>\n",
       "      <td>C0DEED</td>\n",
       "      <td>ÛÏIt felt like they were my friends and I was...</td>\n",
       "      <td>NaN</td>\n",
       "      <td>7471</td>\n",
       "      <td>10/26/15 12:40</td>\n",
       "      <td>6.587300e+17</td>\n",
       "      <td>NaN</td>\n",
       "      <td>Eastern Time (US &amp; Canada)</td>\n",
       "    </tr>\n",
       "    <tr>\n",
       "      <th>2</th>\n",
       "      <td>815719228</td>\n",
       "      <td>False</td>\n",
       "      <td>finalized</td>\n",
       "      <td>3</td>\n",
       "      <td>10/26/15 23:33</td>\n",
       "      <td>male</td>\n",
       "      <td>0.6625</td>\n",
       "      <td>yes</td>\n",
       "      <td>1.0</td>\n",
       "      <td>11/28/14 11:30</td>\n",
       "      <td>louis whining and squealing and all</td>\n",
       "      <td>7696</td>\n",
       "      <td>NaN</td>\n",
       "      <td>ABB8C2</td>\n",
       "      <td>lwtprettylaugh</td>\n",
       "      <td>NaN</td>\n",
       "      <td>https://pbs.twimg.com/profile_images/657330418...</td>\n",
       "      <td>1</td>\n",
       "      <td>C0DEED</td>\n",
       "      <td>i absolutely adore when louis starts the songs...</td>\n",
       "      <td>NaN</td>\n",
       "      <td>5617</td>\n",
       "      <td>10/26/15 12:40</td>\n",
       "      <td>6.587300e+17</td>\n",
       "      <td>clcncl</td>\n",
       "      <td>Belgrade</td>\n",
       "    </tr>\n",
       "    <tr>\n",
       "      <th>3</th>\n",
       "      <td>815719229</td>\n",
       "      <td>False</td>\n",
       "      <td>finalized</td>\n",
       "      <td>3</td>\n",
       "      <td>10/26/15 23:10</td>\n",
       "      <td>male</td>\n",
       "      <td>1.0000</td>\n",
       "      <td>yes</td>\n",
       "      <td>1.0</td>\n",
       "      <td>6/11/09 22:39</td>\n",
       "      <td>Mobile guy.  49ers, Shazam, Google, Kleiner Pe...</td>\n",
       "      <td>202</td>\n",
       "      <td>NaN</td>\n",
       "      <td>0084B4</td>\n",
       "      <td>douggarland</td>\n",
       "      <td>NaN</td>\n",
       "      <td>https://pbs.twimg.com/profile_images/259703936...</td>\n",
       "      <td>0</td>\n",
       "      <td>C0DEED</td>\n",
       "      <td>Hi @JordanSpieth - Looking at the url - do you...</td>\n",
       "      <td>NaN</td>\n",
       "      <td>1693</td>\n",
       "      <td>10/26/15 12:40</td>\n",
       "      <td>6.587300e+17</td>\n",
       "      <td>Palo Alto, CA</td>\n",
       "      <td>Pacific Time (US &amp; Canada)</td>\n",
       "    </tr>\n",
       "    <tr>\n",
       "      <th>4</th>\n",
       "      <td>815719230</td>\n",
       "      <td>False</td>\n",
       "      <td>finalized</td>\n",
       "      <td>3</td>\n",
       "      <td>10/27/15 1:15</td>\n",
       "      <td>female</td>\n",
       "      <td>1.0000</td>\n",
       "      <td>yes</td>\n",
       "      <td>1.0</td>\n",
       "      <td>4/16/14 13:23</td>\n",
       "      <td>Ricky Wilson The Best FRONTMAN/Kaiser Chiefs T...</td>\n",
       "      <td>37318</td>\n",
       "      <td>NaN</td>\n",
       "      <td>3B94D9</td>\n",
       "      <td>WilfordGemma</td>\n",
       "      <td>NaN</td>\n",
       "      <td>https://pbs.twimg.com/profile_images/564094871...</td>\n",
       "      <td>0</td>\n",
       "      <td>0</td>\n",
       "      <td>Watching Neighbours on Sky+ catching up with t...</td>\n",
       "      <td>NaN</td>\n",
       "      <td>31462</td>\n",
       "      <td>10/26/15 12:40</td>\n",
       "      <td>6.587300e+17</td>\n",
       "      <td>NaN</td>\n",
       "      <td>NaN</td>\n",
       "    </tr>\n",
       "  </tbody>\n",
       "</table>\n",
       "</div>"
      ],
      "text/plain": [
       "    _unit_id _golden _unit_state  _trusted_judgments _last_judgment_at  \\\n",
       "0  815719226   False   finalized                   3    10/26/15 23:24   \n",
       "1  815719227   False   finalized                   3    10/26/15 23:30   \n",
       "2  815719228   False   finalized                   3    10/26/15 23:33   \n",
       "3  815719229   False   finalized                   3    10/26/15 23:10   \n",
       "4  815719230   False   finalized                   3     10/27/15 1:15   \n",
       "\n",
       "   gender  gender:confidence profile_yn  profile_yn:confidence  \\\n",
       "0    male             1.0000        yes                    1.0   \n",
       "1    male             1.0000        yes                    1.0   \n",
       "2    male             0.6625        yes                    1.0   \n",
       "3    male             1.0000        yes                    1.0   \n",
       "4  female             1.0000        yes                    1.0   \n",
       "\n",
       "          created                                        description  \\\n",
       "0    12/5/13 1:48                              i sing my own rhythm.   \n",
       "1   10/1/12 13:51  I'm the author of novels filled with family dr...   \n",
       "2  11/28/14 11:30                louis whining and squealing and all   \n",
       "3   6/11/09 22:39  Mobile guy.  49ers, Shazam, Google, Kleiner Pe...   \n",
       "4   4/16/14 13:23  Ricky Wilson The Best FRONTMAN/Kaiser Chiefs T...   \n",
       "\n",
       "   fav_number gender_gold link_color            name profile_yn_gold  \\\n",
       "0           0         NaN     08C2C2         sheezy0             NaN   \n",
       "1          68         NaN     0084B4     DavdBurnett             NaN   \n",
       "2        7696         NaN     ABB8C2  lwtprettylaugh             NaN   \n",
       "3         202         NaN     0084B4     douggarland             NaN   \n",
       "4       37318         NaN     3B94D9    WilfordGemma             NaN   \n",
       "\n",
       "                                        profileimage  retweet_count  \\\n",
       "0  https://pbs.twimg.com/profile_images/414342229...              0   \n",
       "1  https://pbs.twimg.com/profile_images/539604221...              0   \n",
       "2  https://pbs.twimg.com/profile_images/657330418...              1   \n",
       "3  https://pbs.twimg.com/profile_images/259703936...              0   \n",
       "4  https://pbs.twimg.com/profile_images/564094871...              0   \n",
       "\n",
       "  sidebar_color                                               text  \\\n",
       "0        FFFFFF  Robbie E Responds To Critics After Win Against...   \n",
       "1        C0DEED  ÛÏIt felt like they were my friends and I was...   \n",
       "2        C0DEED  i absolutely adore when louis starts the songs...   \n",
       "3        C0DEED  Hi @JordanSpieth - Looking at the url - do you...   \n",
       "4             0  Watching Neighbours on Sky+ catching up with t...   \n",
       "\n",
       "  tweet_coord  tweet_count   tweet_created      tweet_id   tweet_location  \\\n",
       "0         NaN       110964  10/26/15 12:40  6.587300e+17  main; @Kan1shk3   \n",
       "1         NaN         7471  10/26/15 12:40  6.587300e+17              NaN   \n",
       "2         NaN         5617  10/26/15 12:40  6.587300e+17           clcncl   \n",
       "3         NaN         1693  10/26/15 12:40  6.587300e+17    Palo Alto, CA   \n",
       "4         NaN        31462  10/26/15 12:40  6.587300e+17              NaN   \n",
       "\n",
       "                user_timezone  \n",
       "0                     Chennai  \n",
       "1  Eastern Time (US & Canada)  \n",
       "2                    Belgrade  \n",
       "3  Pacific Time (US & Canada)  \n",
       "4                         NaN  "
      ]
     },
     "execution_count": 3,
     "metadata": {},
     "output_type": "execute_result"
    }
   ],
   "source": [
    "# reading in the data\n",
    "data = pd.read_csv('gender-classifier-DFE-791531.csv', encoding = 'latin1')\n",
    "\n",
    "# taking a look at the data\n",
    "pd.set_option('display.max_columns', 500)\n",
    "data.head()"
   ]
  },
  {
   "cell_type": "markdown",
   "metadata": {},
   "source": [
    "From my understading of the data, the variable '_golden' indicates that for these profiles the gender has been verifed. So, we will take a look at how many observations are 'golden':"
   ]
  },
  {
   "cell_type": "code",
   "execution_count": 4,
   "metadata": {},
   "outputs": [
    {
     "name": "stdout",
     "output_type": "stream",
     "text": [
      "number of rows in data:  20050\n",
      "number of rows in dataGolden:  50\n"
     ]
    }
   ],
   "source": [
    "# inspect row count prior to removal of rows\n",
    "print('number of rows in data: ', data['_golden'].count())\n",
    "\n",
    "# inspect row count after removal of rows\n",
    "dataGolden = data.loc[data['_golden'] == True]\n",
    "print('number of rows in dataGolden: ', dataGolden['_golden'].count())"
   ]
  },
  {
   "cell_type": "markdown",
   "metadata": {},
   "source": [
    "The number of 'golden' observations is very low, so we cannot remove all the 'non-golden observations'.\n",
    "Next, let's take a look at the following two variables:\n",
    "- profile_yn: This variable indicates if a profile was available when contributors judged it. We will remove observations that were not available.\n",
    "\n",
    "- gender:confidence: This variable indicates the confidence with which the profiles where judged as either male, female, or brand. We will use observations with a confidence > .80"
   ]
  },
  {
   "cell_type": "code",
   "execution_count": 5,
   "metadata": {},
   "outputs": [
    {
     "name": "stdout",
     "output_type": "stream",
     "text": [
      "number of rows in data:  20050\n",
      "number of rows in dataAvailable:  19953\n",
      "count confidence greater .80:  13939\n"
     ]
    }
   ],
   "source": [
    "# inspect row count for available profiles\n",
    "print('number of rows in data: ', data['_golden'].count())\n",
    "\n",
    "# inspect row count for available profiles after removal of 'no' values\n",
    "dataAvailable = data.loc[data['profile_yn'] == 'yes']\n",
    "print('number of rows in dataAvailable: ', dataAvailable['profile_yn'].count())\n",
    "\n",
    "# count observation with confidence > .80\n",
    "dataFinal = dataAvailable.loc[dataAvailable['gender:confidence'] > .80]\n",
    "print('count confidence greater .80: ', (dataFinal['gender:confidence']).count())"
   ]
  },
  {
   "cell_type": "markdown",
   "metadata": {},
   "source": [
    "Further, we can see that the following two variables contain text that we can also use for our prediction:\n",
    "- description\n",
    "- text\n",
    "\n",
    "Before we extract features from the text in these variables we need to make sure there are no missing values in them:"
   ]
  },
  {
   "cell_type": "code",
   "execution_count": 6,
   "metadata": {},
   "outputs": [
    {
     "name": "stdout",
     "output_type": "stream",
     "text": [
      "_unit_id                 False\n",
      "_golden                  False\n",
      "_unit_state              False\n",
      "_trusted_judgments       False\n",
      "_last_judgment_at         True\n",
      "gender                   False\n",
      "gender:confidence        False\n",
      "profile_yn               False\n",
      "profile_yn:confidence    False\n",
      "created                  False\n",
      "description               True\n",
      "fav_number               False\n",
      "gender_gold               True\n",
      "link_color               False\n",
      "name                     False\n",
      "profile_yn_gold           True\n",
      "profileimage             False\n",
      "retweet_count            False\n",
      "sidebar_color            False\n",
      "text                     False\n",
      "tweet_coord               True\n",
      "tweet_count              False\n",
      "tweet_created            False\n",
      "tweet_id                 False\n",
      "tweet_location            True\n",
      "user_timezone             True\n",
      "dtype: bool\n"
     ]
    }
   ],
   "source": [
    "# check if there are missing values in the dataset\n",
    "print(dataFinal.isnull().any())\n",
    "# remove all observations that have missing values in the variable 'description'\n",
    "dataFinal = dataFinal[pd.notnull(dataFinal['description'])]"
   ]
  },
  {
   "cell_type": "markdown",
   "metadata": {},
   "source": [
    "Now that there are no more missing values in 'description', we can extract features from both variables.\n",
    "To do this, we first combine both the 'text' and 'description' variables into one variable named 'alltext'. Then, we extract the features using the `TfidVectorizer`.\n"
   ]
  },
  {
   "cell_type": "code",
   "execution_count": 7,
   "metadata": {},
   "outputs": [],
   "source": [
    "# import regular expression module, scipy, and TfidVectorizer from sklearn\n",
    "import re\n",
    "from scipy import sparse\n",
    "from sklearn.feature_extraction.text import TfidfVectorizer\n",
    "\n",
    "# store content of 'text' and 'description' in one variable\n",
    "dataFinal['alltext'] = dataFinal['text'] + dataFinal['description']\n",
    "\n",
    "# create vectorizer instance\n",
    "vectorizer = TfidfVectorizer()\n",
    "\n",
    "# create matrix with counts of word occurences for variables 'text' and 'description'\n",
    "textMatrix = vectorizer.fit_transform(dataFinal['alltext'])"
   ]
  },
  {
   "cell_type": "markdown",
   "metadata": {},
   "source": [
    "Process the features that were extracted:"
   ]
  },
  {
   "cell_type": "code",
   "execution_count": 8,
   "metadata": {},
   "outputs": [
    {
     "name": "stdout",
     "output_type": "stream",
     "text": [
      "Dimension of textMatrix:  (11858, 51140)\n",
      "Dimension of Matrix containing zero counts:  (1, 51140)\n",
      "Dimension of temp. matrix containing both:  (11859, 51140)\n"
     ]
    }
   ],
   "source": [
    "# count how many zeros occur for each word\n",
    "columns = (textMatrix != 0).sum(0)\n",
    "sparseColumns = sparse.csr_matrix(columns) #transform to scipy matrix\n",
    "\n",
    "# look at shapes prior to appending the row containing the zero counts\n",
    "print('Dimension of textMatrix: ', textMatrix.shape)\n",
    "print('Dimension of Matrix containing zero counts: ', sparseColumns.shape)\n",
    "\n",
    "# append row to a temporary matrix and check if it was appended\n",
    "tempTextMatrix = sparse.vstack([sparseColumns, textMatrix])\n",
    "print('Dimension of temp. matrix containing both: ', tempTextMatrix.shape)"
   ]
  },
  {
   "cell_type": "markdown",
   "metadata": {},
   "source": [
    "removing columns with lot of zero counts:"
   ]
  },
  {
   "cell_type": "code",
   "execution_count": 9,
   "metadata": {},
   "outputs": [
    {
     "name": "stdout",
     "output_type": "stream",
     "text": [
      "Type of the object:  <class 'list'>\n",
      "\n",
      "List indeces for which the amount of zeros in a column is > (nrows/4):\n",
      "[4606, 10529, 17480, 21480, 22315, 32035, 43453, 44314]\n",
      "\n",
      "Dimension of newTextMatrix:  (11859, 51132)\n",
      "Matrix type is:\n",
      "<class 'scipy.sparse.csr.csr_matrix'>\n",
      "\n",
      "Dimension of newTextMatrix after removal of last row:  (11858, 51132)\n"
     ]
    }
   ],
   "source": [
    "cooSparseColumns = sparseColumns.tocoo()\n",
    "\n",
    "colList = sparseColumns.data.tolist()\n",
    "print('Type of the object: ', type(colList))\n",
    "print('') #print empty line\n",
    "\n",
    "indexList = []\n",
    "\n",
    "for index, value in enumerate(colList):\n",
    "    if value > (11863/4):\n",
    "       indexList.append(index) \n",
    "\n",
    "\n",
    "print('List indeces for which the amount of zeros in a column is > (nrows/4):')\n",
    "print(indexList)\n",
    "print('') #print empty line\n",
    "\n",
    "\n",
    "# we see that there are only a few columns that contain many zeros\n",
    "# so we will exclude these from the textMatrix and create a newTextMatrix\n",
    "\n",
    "opIndexList=[]\n",
    "for index, value in enumerate(colList):\n",
    "    if value < (11863/4):\n",
    "       opIndexList.append(index) \n",
    "\n",
    "newTextMatrix = sparse.lil_matrix(sparse.csr_matrix(tempTextMatrix)[:,opIndexList])\n",
    "\n",
    "print('Dimension of newTextMatrix: ', newTextMatrix.shape)\n",
    "\n",
    "# converting back to matrix csr format\n",
    "newTextMatrix = newTextMatrix.tocsr()\n",
    "print('Matrix type is:')\n",
    "print(type(newTextMatrix))\n",
    "\n",
    "# Finally we will remove the last row of the newTextMatrix, as this row stored the counts\n",
    "# First we need to define a function that does this\n",
    "\n",
    "def deleteRowCSR(mat, i):\n",
    "    if not isinstance(mat, sparse.csr_matrix):\n",
    "        raise ValueError(\"works only for CSR format -- use .tocsr() first\")\n",
    "    n = mat.indptr[i+1] - mat.indptr[i]\n",
    "    if n > 0:\n",
    "        mat.data[mat.indptr[i]:-n] = mat.data[mat.indptr[i+1]:]\n",
    "        mat.data = mat.data[:-n]\n",
    "        mat.indices[mat.indptr[i]:-n] = mat.indices[mat.indptr[i+1]:]\n",
    "        mat.indices = mat.indices[:-n]\n",
    "    mat.indptr[i:-1] = mat.indptr[i+1:]\n",
    "    mat.indptr[i:] -= n\n",
    "    mat.indptr = mat.indptr[:-1]\n",
    "    mat._shape = (mat._shape[0]-1, mat._shape[1])\n",
    "\n",
    "# deleting the last row\n",
    "print('')\n",
    "deleteRowCSR(newTextMatrix, 11858)\n",
    "print('Dimension of newTextMatrix after removal of last row: ', newTextMatrix.shape)"
   ]
  },
  {
   "cell_type": "markdown",
   "metadata": {},
   "source": [
    "create feature matrix and outcome vector for the ML models:"
   ]
  },
  {
   "cell_type": "code",
   "execution_count": 52,
   "metadata": {},
   "outputs": [],
   "source": [
    "# select relevant predictors from data frame that are not text\n",
    "dataFinal=dataFinal.fillna(\"\")\n",
    "pred = dataFinal.iloc[:,[11, 13, 17, 18, 21, 25]].values\n",
    "\n",
    "# encode these as categorical features (dummy coding)\n",
    "from sklearn.preprocessing import OneHotEncoder, LabelEncoder\n",
    "ohe = OneHotEncoder()\n",
    "le = LabelEncoder()\n",
    "pred[:, 1] = le.fit_transform(pred[:, 1])\n",
    "pred[:, 3] = le.fit_transform(pred[:, 3])\n",
    "pred[:, 5] = le.fit_transform(pred[:, 5])\n",
    "# dummy coding\n",
    "pred = ohe.fit_transform(pred)\n",
    "\n",
    "# convert to csr matrix and append to newTextMatrix\n",
    "csrpred = pred.tocsr()\n",
    "newTextMatrix = sparse.hstack([csrpred, newTextMatrix])\n",
    "x = newTextMatrix\n",
    "\n",
    "# transform in order to enable slicing and remove last column (avoiding the dummy variable trap)\n",
    "x_csr = x.tocsr()\n",
    "x_csr = x_csr[:,:-1]\n",
    "\n",
    "# get outcome variable and encode it\n",
    "y = dataFinal.iloc[:,5].values\n",
    "y = le.fit_transform(y)"
   ]
  },
  {
   "cell_type": "markdown",
   "metadata": {},
   "source": [
    "Fitting ML Model:\n",
    "Start with a multiclass logistic regression"
   ]
  },
  {
   "cell_type": "code",
   "execution_count": 53,
   "metadata": {},
   "outputs": [
    {
     "data": {
      "text/plain": [
       "LogisticRegression(C=0.01, class_weight=None, dual=False, fit_intercept=True,\n",
       "          intercept_scaling=1, max_iter=100, multi_class='multinomial',\n",
       "          n_jobs=1, penalty='l2', random_state=None, solver='lbfgs',\n",
       "          tol=0.0001, verbose=0, warm_start=False)"
      ]
     },
     "execution_count": 53,
     "metadata": {},
     "output_type": "execute_result"
    }
   ],
   "source": [
    "from sklearn.model_selection import train_test_split\n",
    "from sklearn import linear_model\n",
    "\n",
    "# split into test and train data\n",
    "x_train, x_test, y_train, y_test = train_test_split(x_csr, y, test_size = 0.2, random_state = 0)\n",
    "\n",
    "# fit linear model with one regularization value (for simplicity reasons)\n",
    "# to the training data\n",
    "regstrength = 1e-2\n",
    "reg = linear_model.LogisticRegression (penalty='l2', C=regstrength,\n",
    "                                       solver ='lbfgs', multi_class = 'multinomial')\n",
    "reg.fit(x_train, y_train)"
   ]
  },
  {
   "cell_type": "markdown",
   "metadata": {},
   "source": [
    "make predictions on test data:"
   ]
  },
  {
   "cell_type": "code",
   "execution_count": 60,
   "metadata": {},
   "outputs": [
    {
     "name": "stdout",
     "output_type": "stream",
     "text": [
      "Classification rate:  54.173693086\n"
     ]
    }
   ],
   "source": [
    "y_pred = reg.predict(x_test)\n",
    "classifRate = np.mean(y_pred.ravel() == y_test.ravel()) * 100\n",
    "print('Classification rate: ', classifRate)"
   ]
  },
  {
   "cell_type": "markdown",
   "metadata": {},
   "source": [
    "Do feature extraction:"
   ]
  },
  {
   "cell_type": "code",
   "execution_count": 79,
   "metadata": {},
   "outputs": [],
   "source": [
    "from sklearn.feature_selection import SelectKBest\n",
    "\n",
    "ch2 = SelectKBest(chi2, k=\"all\")\n",
    "x_train = ch2.fit_transform(x_train, y_train)\n",
    "x_test = ch2.transform(x_test)"
   ]
  },
  {
   "cell_type": "code",
   "execution_count": 78,
   "metadata": {},
   "outputs": [
    {
     "name": "stdout",
     "output_type": "stream",
     "text": [
      "Classification rate:  38.1956155143\n"
     ]
    }
   ],
   "source": [
    "# fit linear model with one regularization value (for simplicity reasons)\n",
    "# to the training data\n",
    "reg.fit(x_train, y_train)\n",
    "\n",
    "y_pred = reg.predict(x_test)\n",
    "classifRate = np.mean(y_pred.ravel() == y_test.ravel()) * 100\n",
    "print('Classification rate: ', classifRate)"
   ]
  },
  {
   "cell_type": "markdown",
   "metadata": {},
   "source": [
    "Re-rund ML Model"
   ]
  }
 ],
 "metadata": {
  "kernelspec": {
   "display_name": "Python 3",
   "language": "python",
   "name": "python3"
  },
  "language_info": {
   "codemirror_mode": {
    "name": "ipython",
    "version": 3
   },
   "file_extension": ".py",
   "mimetype": "text/x-python",
   "name": "python",
   "nbconvert_exporter": "python",
   "pygments_lexer": "ipython3",
   "version": "3.5.2"
  }
 },
 "nbformat": 4,
 "nbformat_minor": 2
}
